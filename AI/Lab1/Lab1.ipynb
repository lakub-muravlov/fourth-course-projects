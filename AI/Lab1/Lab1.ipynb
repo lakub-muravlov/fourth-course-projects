{
 "cells": [
  {
   "cell_type": "code",
   "execution_count": 1,
   "id": "971a4a57",
   "metadata": {},
   "outputs": [],
   "source": [
    "import numpy as np, random, operator, pandas as pd\n",
    "import matplotlib.pyplot as plt\n",
    "\n",
    "import warnings\n",
    "warnings.filterwarnings('ignore')"
   ]
  },
  {
   "cell_type": "code",
   "execution_count": 2,
   "id": "ccfa440d",
   "metadata": {},
   "outputs": [],
   "source": [
    "def create_starting_population(size,Number_of_city):\n",
    "    '''Method create starting population \n",
    "    size= No. of the city\n",
    "    Number_of_city= Total No. of the city\n",
    "    '''\n",
    "    population = []\n",
    "    \n",
    "    for i in range(0,size):\n",
    "        population.append(create_new_member(Number_of_city))\n",
    "        \n",
    "    return population"
   ]
  },
  {
   "cell_type": "code",
   "execution_count": 3,
   "id": "12ade978",
   "metadata": {},
   "outputs": [],
   "source": [
    "def pick_mate(N):\n",
    "    '''mates are randomaly picked \n",
    "    N= no. of city '''\n",
    "    i=random.randint(0,N)    \n",
    "    return i"
   ]
  },
  {
   "cell_type": "code",
   "execution_count": 4,
   "id": "cbfbb6e0",
   "metadata": {},
   "outputs": [],
   "source": [
    "def distance(i,j):\n",
    "    '''\n",
    "    Method calculate distance between two cities if coordinates are passed\n",
    "    i=(x,y) coordinates of first city\n",
    "    j=(x,y) coordinates of second city\n",
    "    '''\n",
    "    #returning distance of city i and j \n",
    "    return np.sqrt((i[0]-j[0])**2 + (i[1]-j[1])**2)"
   ]
  },
  {
   "cell_type": "code",
   "execution_count": 5,
   "id": "53027d9d",
   "metadata": {},
   "outputs": [],
   "source": [
    "def score_population(population, CityList):  \n",
    "    '''\n",
    "    Score of the whole population is calculated here\n",
    "    population= 2 dimensional array conating all the routes\n",
    "    Citylist= List of the city \n",
    "    '''\n",
    "    scores = []\n",
    "  \n",
    "    for i in population:\n",
    "        #print(i)\n",
    "        scores.append(fitness(i, CityList))\n",
    "        #print([fitness(i, the_map)])\n",
    "    return scores"
   ]
  },
  {
   "cell_type": "code",
   "execution_count": 6,
   "id": "8b4c6d9b",
   "metadata": {},
   "outputs": [],
   "source": [
    "def fitness(route,CityList):\n",
    "    '''Individual fitness of the routes is calculated here\n",
    "    route= 1d array\n",
    "    CityList = List of the cities\n",
    "    '''\n",
    "    #Calculate the fitness and return it.\n",
    "    score=0\n",
    "    #N_=len(route)\n",
    "    for i in range(1,len(route)):\n",
    "        k=int(route[i-1])\n",
    "        l=int(route[i])\n",
    "\n",
    "        score = score + distance(CityList[k],CityList[l])\n",
    "        \n",
    "        \n",
    "    return score"
   ]
  },
  {
   "cell_type": "code",
   "execution_count": 7,
   "id": "85b67683",
   "metadata": {},
   "outputs": [],
   "source": [
    "def create_new_member(Number_of_city):\n",
    "    '''\n",
    "    creating new member of the population\n",
    "    '''\n",
    "    pop=set(np.arange(Number_of_city,dtype=int))\n",
    "    route=list(random.sample(pop,Number_of_city))\n",
    "            \n",
    "    return route"
   ]
  },
  {
   "cell_type": "code",
   "execution_count": 8,
   "id": "7932a91d",
   "metadata": {},
   "outputs": [],
   "source": [
    "def crossover(a,b):\n",
    "    '''\n",
    "    cross over \n",
    "    a=route1\n",
    "    b=route2\n",
    "    return child\n",
    "    '''\n",
    "    child1=[]\n",
    "    child2=[]\n",
    "    childA=[]\n",
    "    childB=[]\n",
    "    childC=[]\n",
    "    childD=[]\n",
    "    child1_2=[]\n",
    "    child2_2=[]\n",
    "    childA2=[]\n",
    "    childB2=[]\n",
    "    childC2=[]\n",
    "    childD2=[]\n",
    "   \n",
    "    \n",
    "    \n",
    "    geneA=int(random.random()* len(a))\n",
    "    geneB=int(random.random()* len(a))\n",
    "    \n",
    "    start_gene=min(geneA,geneB)\n",
    "    end_gene=max(geneA,geneB)\n",
    "    \n",
    "    for i in range(start_gene,end_gene):\n",
    "        childA.append(a[i])\n",
    "    for i in range(start_gene,end_gene):\n",
    "        childC.append(b[i])\n",
    "    childB=[item for item in a if item not in childA]\n",
    "    childD=[item for item in b if item not in childC]\n",
    "    child1=childA+childB\n",
    "    child2=childC+childD\n",
    "    #second\n",
    "    gene1 = int(random.random()* (len(a)-end_gene))\n",
    "    gene2 = int(random.random()* (len(a)-end_gene))\n",
    "    start_gene2=min(gene1,gene2)+end_gene\n",
    "    end_gene2=max(gene1,gene2)+end_gene\n",
    "    \n",
    "    for i in range(start_gene2,end_gene2):\n",
    "        childA2.append(child1[i])\n",
    "        \n",
    "    for i in range(start_gene2,end_gene2):\n",
    "        childC2.append(child2[i])\n",
    "        \n",
    "    childB2=[item for item in child1 if item not in childA2]\n",
    "    childD2=[item for item in child2 if item not in childC2]\n",
    "    child1_2=childA2+childB2\n",
    "    child2_2=childC2+childD2\n",
    "       \n",
    "    return (child1_2, child2_2)\n",
    "    \n",
    "    \n",
    "    \n",
    "       \n"
   ]
  },
  {
   "cell_type": "code",
   "execution_count": 9,
   "id": "569964cb",
   "metadata": {},
   "outputs": [],
   "source": [
    "def mutate(route,probablity):\n",
    "    '''\n",
    "    mutation \n",
    "    route= 1d array\n",
    "    probablity= mutation probablity\n",
    "    '''\n",
    "    #for mutating shuffling of the nodes is used\n",
    "    route=np.array(route)\n",
    "    for swaping_p in range(len(route)):\n",
    "        if(random.random() < probablity):\n",
    "            swapedWith = np.random.randint(0,len(route))\n",
    "            \n",
    "            temp1=route[swaping_p]\n",
    "            \n",
    "            temp2=route[swapedWith]\n",
    "            route[swapedWith]=temp1\n",
    "            route[swaping_p]=temp2\n",
    "    \n",
    "    return route"
   ]
  },
  {
   "cell_type": "code",
   "execution_count": 10,
   "id": "63b201c3",
   "metadata": {},
   "outputs": [],
   "source": [
    "def selection(popRanked, eliteSize):\n",
    "    selectionResults=[]\n",
    "    result=[]\n",
    "    for i in popRanked:\n",
    "        result.append(i[0])\n",
    "    for i in range(0,eliteSize):\n",
    "        selectionResults.append(result[i])\n",
    "    \n",
    "    return selectionResults"
   ]
  },
  {
   "cell_type": "code",
   "execution_count": 11,
   "id": "833ac7e8",
   "metadata": {},
   "outputs": [],
   "source": [
    "def rankRoutes(population,City_List):\n",
    "    fitnessResults = {}\n",
    "    for i in range(0,len(population)):\n",
    "        fitnessResults[i] = fitness(population[i],City_List)\n",
    "    return sorted(fitnessResults.items(), key = operator.itemgetter(1), reverse = False)"
   ]
  },
  {
   "cell_type": "code",
   "execution_count": 12,
   "id": "afba5b56",
   "metadata": {},
   "outputs": [],
   "source": [
    "def breedPopulation(mating_pool):\n",
    "    children=[]\n",
    "    for i in range(len(mating_pool)-1):\n",
    "            children.append(crossover(mating_pool[i],mating_pool[i+1]))\n",
    "    flatten = lambda l: [item for sublist in l for item in sublist]\n",
    "    return flatten(children)"
   ]
  },
  {
   "cell_type": "code",
   "execution_count": 13,
   "id": "6fe39950",
   "metadata": {},
   "outputs": [],
   "source": [
    "def mutatePopulation(children,mutation_rate):\n",
    "    new_generation=[]\n",
    "    for i in children:\n",
    "        muated_child=mutate(i,mutation_rate)\n",
    "        new_generation.append(muated_child)\n",
    "    return new_generation"
   ]
  },
  {
   "cell_type": "code",
   "execution_count": 14,
   "id": "681edf77",
   "metadata": {},
   "outputs": [],
   "source": [
    "\n",
    "def matingPool(population, selectionResults):\n",
    "    matingpool = []\n",
    "    for i in range(0, len(selectionResults)):\n",
    "        index = selectionResults[i]\n",
    "        matingpool.append(population[index])\n",
    "    return matingpool"
   ]
  },
  {
   "cell_type": "code",
   "execution_count": 15,
   "id": "47b48a70",
   "metadata": {},
   "outputs": [],
   "source": [
    "\n",
    "def next_generation(City_List,current_population,mutation_rate,elite_size):\n",
    "    population_rank=rankRoutes(current_population,City_List)\n",
    "    \n",
    "    #print(f\"population rank : {population_rank}\")\n",
    "    \n",
    "    selection_result=selection(population_rank,elite_size)\n",
    "    #print(f\"selection results {selection_result}\")\n",
    "    \n",
    "    mating_pool=matingPool(current_population,selection_result)\n",
    "    #print(f\"mating pool {mating_pool}\")\n",
    "    \n",
    "    children=breedPopulation(mating_pool)\n",
    "    #print(f\"childern {children}\")\n",
    "    \n",
    "    next_generation=mutatePopulation(children,mutation_rate)\n",
    "    #print(f\"next_generation {next_generation}\")\n",
    "    return next_generation"
   ]
  },
  {
   "cell_type": "code",
   "execution_count": 16,
   "id": "69c8ad7c",
   "metadata": {},
   "outputs": [],
   "source": [
    "def genetic_algorithm(City_List,size_population=1000,elite_size=70,mutation_Rate=0.01,generation=2000):\n",
    "    '''size_population = 1000(default) Size of population\n",
    "        elite_size = 75 (default) No. of best route to choose\n",
    "        mutation_Rate = 0.05 (default) probablity of Mutation rate [0,1]\n",
    "        generation = 2000 (default) No. of generation  \n",
    "    '''\n",
    "    pop=[]\n",
    "    progress = []\n",
    "    \n",
    "    Number_of_cities=len(City_List)\n",
    "    \n",
    "    population=create_starting_population(size_population,Number_of_cities)\n",
    "    progress.append(rankRoutes(population,City_List)[0][1])\n",
    "    print(f\"initial route distance {progress[0]}\")\n",
    "    print(f\"initial route {population[0]}\")\n",
    "    for i in range(0,generation):\n",
    "        pop = next_generation(City_List,population,mutation_Rate,elite_size)\n",
    "        progress.append(rankRoutes(pop,City_List)[0][1])\n",
    "    \n",
    "    \n",
    "    rank_=rankRoutes(pop,City_List)[0]\n",
    "    \n",
    "    print(f\"Best Route :{pop[rank_[0]]} \")\n",
    "    print(f\"best route distance {rank_[1]}\")\n",
    "    plt.plot(progress)\n",
    "    plt.ylabel('Distance')\n",
    "    plt.xlabel('Generation')\n",
    "    plt.show()\n",
    "    \n",
    "    return rank_, pop"
   ]
  },
  {
   "cell_type": "code",
   "execution_count": 17,
   "id": "4a1dd4f2",
   "metadata": {},
   "outputs": [],
   "source": [
    "cityList = []\n",
    "\n",
    "\n",
    "for i in range(0,25):\n",
    "    x=int(random.random() * 200)\n",
    "    y=int(random.random() * 200)\n",
    "    cityList.append((x,y))"
   ]
  },
  {
   "cell_type": "code",
   "execution_count": 18,
   "id": "43914197",
   "metadata": {},
   "outputs": [
    {
     "name": "stderr",
     "output_type": "stream",
     "text": [
      "C:\\Users\\Kub\\AppData\\Local\\Temp/ipykernel_9220/2841693681.py:6: DeprecationWarning: Sampling from a set deprecated\n",
      "since Python 3.9 and will be removed in a subsequent version.\n",
      "  route=list(random.sample(pop,Number_of_city))\n"
     ]
    },
    {
     "name": "stdout",
     "output_type": "stream",
     "text": [
      "initial route distance 1916.0680581660622\n",
      "initial route [19, 16, 21, 8, 10, 17, 13, 24, 2, 14, 5, 22, 15, 1, 12, 4, 0, 3, 11, 20, 7, 6, 9, 18, 23]\n",
      "Best Route :[ 9  4 13  6 20 16  8  2 21  5  7 14 23 22  0 17 18 10  1  3 15 11 24 19\n",
      " 12] \n",
      "best route distance 1860.3472975899476\n"
     ]
    },
    {
     "data": {
      "image/png": "[encoded data removed]",
      "text/plain": [
       "<Figure size 432x288 with 1 Axes>"
      ]
     },
     "metadata": {
      "needs_background": "light"
     },
     "output_type": "display_data"
    }
   ],
   "source": [
    "\n",
    "rank_,pop=genetic_algorithm(City_List=cityList)"
   ]
  },
  {
   "cell_type": "code",
   "execution_count": 19,
   "id": "dfed24b5",
   "metadata": {},
   "outputs": [],
   "source": [
    "x_axis=[]\n",
    "y_axis=[]\n",
    "for i in cityList:\n",
    "    x_axis.append(i[0])\n",
    "    y_axis.append(i[1])\n",
    "\n",
    "    "
   ]
  },
  {
   "cell_type": "code",
   "execution_count": 20,
   "id": "3f61aef6",
   "metadata": {},
   "outputs": [
    {
     "data": {
      "image/png": "[encoded data removed]",
      "text/plain": [
       "<Figure size 432x288 with 1 Axes>"
      ]
     },
     "metadata": {
      "needs_background": "light"
     },
     "output_type": "display_data"
    }
   ],
   "source": [
    "x_val = [x[0] for x in cityList]\n",
    "y_val = [x[1] for x in cityList]\n",
    "plt.scatter(x_axis,y_axis)\n",
    "\n",
    "\n",
    "\n",
    "plt.plot(x_val,y_val)\n",
    "plt.plot(x_val,y_val,'r')\n",
    "plt.show()"
   ]
  },
  {
   "cell_type": "code",
   "execution_count": null,
   "id": "d186bfec",
   "metadata": {},
   "outputs": [],
   "source": []
  }
 ],
 "metadata": {
  "kernelspec": {
   "display_name": "Python 3 (ipykernel)",
   "language": "python",
   "name": "python3"
  },
  "language_info": {
   "codemirror_mode": {
    "name": "ipython",
    "version": 3
   },
   "file_extension": ".py",
   "mimetype": "text/x-python",
   "name": "python",
   "nbconvert_exporter": "python",
   "pygments_lexer": "ipython3",
   "version": "3.10.0"
  }
 },
 "nbformat": 4,
 "nbformat_minor": 5
}
